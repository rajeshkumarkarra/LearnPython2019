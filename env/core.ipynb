{
 "cells": [
  {
   "cell_type": "markdown",
   "metadata": {},
   "source": [
    "# PYTHON3 BASICS"
   ]
  },
  {
   "cell_type": "code",
   "execution_count": 5,
   "metadata": {},
   "outputs": [
    {
     "name": "stdout",
     "output_type": "stream",
     "text": [
      "['rajesh', 20.45, True]\n"
     ]
    }
   ],
   "source": [
    "num =[]\n",
    "num.append('rajesh')\n",
    "num.append(20.45)\n",
    "num.append(True)\n",
    "print(num)"
   ]
  },
  {
   "cell_type": "code",
   "execution_count": 7,
   "metadata": {},
   "outputs": [
    {
     "name": "stdin",
     "output_type": "stream",
     "text": [
      "enter your name rajesh\n"
     ]
    },
    {
     "name": "stdout",
     "output_type": "stream",
     "text": [
      "hello rajesh\n"
     ]
    }
   ],
   "source": [
    "name = input(\"enter your name\")\n",
    "print(\"hello\", name)"
   ]
  },
  {
   "cell_type": "code",
   "execution_count": 3,
   "metadata": {},
   "outputs": [
    {
     "name": "stdout",
     "output_type": "stream",
     "text": [
      "bla... bla\n"
     ]
    }
   ],
   "source": [
    "num = 34\n",
    "if num > 55:\n",
    "    print('num is good')\n",
    "elif num >35:\n",
    "    print('num is not good')\n",
    "elif num < 35:\n",
    "    print('bla... bla')\n",
    "else:\n",
    "    print('num is great')"
   ]
  },
  {
   "cell_type": "code",
   "execution_count": 10,
   "metadata": {},
   "outputs": [
    {
     "name": "stdout",
     "output_type": "stream",
     "text": [
      "hello\n",
      "rajesh\n",
      "hello\n",
      "rajesh\n"
     ]
    }
   ],
   "source": [
    "def hello():\n",
    "    print('hello')\n",
    "    print('rajesh')\n",
    "    \n",
    "hello() # calling methon\n",
    "hello()"
   ]
  },
  {
   "cell_type": "code",
   "execution_count": 12,
   "metadata": {},
   "outputs": [
    {
     "name": "stdout",
     "output_type": "stream",
     "text": [
      "main function started\n"
     ]
    },
    {
     "name": "stdin",
     "output_type": "stream",
     "text": [
      "enter your value 25\n"
     ]
    },
    {
     "name": "stdout",
     "output_type": "stream",
     "text": [
      "25\n"
     ]
    }
   ],
   "source": [
    "def getInteger():\n",
    "    result = int(input(\"enter your value\"))\n",
    "    return result\n",
    "\n",
    "def main():\n",
    "    print('main function started')\n",
    "    output = getInteger()\n",
    "    print(output)\n",
    "    \n",
    "if __name__==\"__main__\":\n",
    "    main()"
   ]
  },
  {
   "cell_type": "code",
   "execution_count": 14,
   "metadata": {},
   "outputs": [
    {
     "name": "stdin",
     "output_type": "stream",
     "text": [
      "enter any float num 12.6\n"
     ]
    },
    {
     "name": "stdout",
     "output_type": "stream",
     "text": [
      "12.6\n"
     ]
    }
   ],
   "source": [
    "import math\n",
    "def main():\n",
    "    num = float(input('enter any float num'))\n",
    "    num = math.fabs(num) #fabs for absolute float number\n",
    "    print(num)\n",
    "    \n",
    "if __name__==\"__main__\":\n",
    "    main()"
   ]
  },
  {
   "cell_type": "code",
   "execution_count": 7,
   "metadata": {},
   "outputs": [
    {
     "name": "stdout",
     "output_type": "stream",
     "text": [
      "True\n",
      "False\n",
      "False\n",
      "True\n"
     ]
    }
   ],
   "source": [
    "print(' '  is ' '  ) # strings are immutable\n",
    "print({} is {}) # dictionaries are mutable\n",
    "print([] is []) # lists are mutable\n",
    "print(() is ()) # tuple is immutable"
   ]
  },
  {
   "cell_type": "code",
   "execution_count": 13,
   "metadata": {},
   "outputs": [
    {
     "name": "stdout",
     "output_type": "stream",
     "text": [
      "<class 'tuple'>\n",
      "(5, 6)\n",
      "(3, 4)\n"
     ]
    }
   ],
   "source": [
    "num = (1,2)\n",
    "num = (5,6)\n",
    "print(type(num))\n",
    "print(num)\n",
    "num = (3,4)\n",
    "print(num)"
   ]
  },
  {
   "cell_type": "code",
   "execution_count": 15,
   "metadata": {},
   "outputs": [
    {
     "name": "stdout",
     "output_type": "stream",
     "text": [
      "{1, 2}\n",
      "{3, 4}\n",
      "<class 'set'>\n"
     ]
    }
   ],
   "source": [
    "num = {1,2}\n",
    "print(num)\n",
    "num = {3,4}\n",
    "print(num)\n",
    "print(type(num))"
   ]
  },
  {
   "cell_type": "code",
   "execution_count": 17,
   "metadata": {},
   "outputs": [
    {
     "name": "stdout",
     "output_type": "stream",
     "text": [
      "<class 'set'>\n",
      "<class 'list'>\n"
     ]
    }
   ],
   "source": [
    "num = [1,2]\n",
    "num1 ={'rajesh', 24}\n",
    "print(type(num1))\n",
    "print(type(num))"
   ]
  },
  {
   "cell_type": "code",
   "execution_count": 28,
   "metadata": {},
   "outputs": [
    {
     "name": "stdout",
     "output_type": "stream",
     "text": [
      "5\n",
      "10\n",
      "15\n",
      "value of using nonlocal is: 10\n",
      "value of using local is: 5\n"
     ]
    }
   ],
   "source": [
    "a = 5\n",
    "def read():\n",
    "    print(a)\n",
    "read()\n",
    "\n",
    "def mod1():\n",
    "    global a\n",
    "    a = 10\n",
    "    print(a)\n",
    "\n",
    "mod1()\n",
    "\n",
    "def mod2():\n",
    "   \n",
    "    a= 15\n",
    "    print(a)\n",
    "mod2()\n",
    "print(\"value of using nonlocal is: \", end=\"\")\n",
    "def outer():\n",
    "    a=5\n",
    "    def inner():\n",
    "        nonlocal a\n",
    "        a=10\n",
    "       \n",
    "        \n",
    "    inner()\n",
    "    print(a)\n",
    "outer()\n",
    "\n",
    "print(\"value of using local is: \", end=\"\")\n",
    "def outer():\n",
    "    a=5\n",
    "    def inner():\n",
    "        a=10\n",
    "        \n",
    "    inner()\n",
    "    print(a)\n",
    "    \n",
    "outer()\n",
    "    "
   ]
  },
  {
   "cell_type": "code",
   "execution_count": 29,
   "metadata": {},
   "outputs": [
    {
     "name": "stdout",
     "output_type": "stream",
     "text": [
      "6\n"
     ]
    }
   ],
   "source": [
    "count =5\n",
    "def someMethod():\n",
    "    global count\n",
    "    count+=1\n",
    "    print(count)\n",
    "someMethod()"
   ]
  },
  {
   "cell_type": "code",
   "execution_count": 1,
   "metadata": {},
   "outputs": [
    {
     "name": "stdout",
     "output_type": "stream",
     "text": [
      "1\n",
      "2\n",
      "3\n",
      "4\n",
      "5\n"
     ]
    }
   ],
   "source": [
    "j =1\n",
    "while(j<=5):\n",
    "    print(j)\n",
    "    j+=1"
   ]
  },
  {
   "cell_type": "code",
   "execution_count": 1,
   "metadata": {},
   "outputs": [
    {
     "name": "stdout",
     "output_type": "stream",
     "text": [
      "x > 5\n",
      "x > 5\n",
      "x > 5\n",
      "x < 5\n",
      "x < 5\n"
     ]
    }
   ],
   "source": [
    "x = 10\n",
    "while(x != 0):\n",
    "    if(x > 5):\n",
    "        print('x > 5')\n",
    "    else:\n",
    "        print('x < 5')\n",
    "    x-=2"
   ]
  },
  {
   "cell_type": "code",
   "execution_count": 2,
   "metadata": {},
   "outputs": [
    {
     "name": "stdout",
     "output_type": "stream",
     "text": [
      "printing entire keyword list\n",
      "['False', 'None', 'True', 'and', 'as', 'assert', 'async', 'await', 'break', 'class', 'continue', 'def', 'del', 'elif', 'else', 'except', 'finally', 'for', 'from', 'global', 'if', 'import', 'in', 'is', 'lambda', 'nonlocal', 'not', 'or', 'pass', 'raise', 'return', 'try', 'while', 'with', 'yield']\n"
     ]
    }
   ],
   "source": [
    "import keyword\n",
    "print('printing entire keyword list')\n",
    "print(keyword.kwlist)"
   ]
  },
  {
   "cell_type": "markdown",
   "metadata": {},
   "source": [
    "## Print without newline in Python 3.x "
   ]
  },
  {
   "cell_type": "code",
   "execution_count": 7,
   "metadata": {},
   "outputs": [
    {
     "name": "stdout",
     "output_type": "stream",
     "text": [
      "hello\n",
      "rajesh\n",
      "hello rajesh\n",
      "[1, 2, 3, 4]\n",
      "1 2 3 4 "
     ]
    }
   ],
   "source": [
    "print('hello')\n",
    "print('rajesh')\n",
    "\n",
    "# without new line\n",
    "\n",
    "print('hello', end=\" \")\n",
    "print('rajesh')\n",
    "\n",
    "# array\n",
    "a = [1,2,3,4]\n",
    "print(a)\n",
    "\n",
    "a = [1,2,3,4]\n",
    "for i in range(4):\n",
    "    print(a[i], end=\" \")"
   ]
  },
  {
   "cell_type": "code",
   "execution_count": 4,
   "metadata": {},
   "outputs": [
    {
     "name": "stdout",
     "output_type": "stream",
     "text": [
      "i is smaller than 15\n",
      "i is smaller than 12 too\n",
      "i is smaller than 11 also\n"
     ]
    }
   ],
   "source": [
    "# python program to illustrate nested If statement \n",
    "#!/usr/bin/python \n",
    "i = 10\n",
    "if (i == 10): \n",
    "    # First if statement \n",
    "    if (i < 15): \n",
    "        print (\"i is smaller than 15\") \n",
    "    # Nested - if statement \n",
    "    # Will only be executed if statement above \n",
    "    # it is true \n",
    "    if (i < 12): \n",
    "        print (\"i is smaller than 12 too\") \n",
    "    if (i < 11):\n",
    "        print(\"i is smaller than 11 also\")\n",
    "else: \n",
    "    print (\"i is greater than 15\") \n"
   ]
  },
  {
   "cell_type": "code",
   "execution_count": 5,
   "metadata": {},
   "outputs": [
    {
     "name": "stdout",
     "output_type": "stream",
     "text": [
      "i is 10\n"
     ]
    }
   ],
   "source": [
    "i = 10\n",
    "if (i == 9):\n",
    "    print('i is 9')\n",
    "elif (i > 11):\n",
    "    print('i is 11')\n",
    "elif (i == 10):\n",
    "    print('i is 10')\n",
    "    \n",
    "else:\n",
    "    print(\"I'm not in if\")"
   ]
  },
  {
   "cell_type": "code",
   "execution_count": 1,
   "metadata": {},
   "outputs": [
    {
     "name": "stdout",
     "output_type": "stream",
     "text": [
      "rajesh\n"
     ]
    }
   ],
   "source": [
    "print('rajesh')"
   ]
  },
  {
   "cell_type": "code",
   "execution_count": 2,
   "metadata": {},
   "outputs": [
    {
     "name": "stdout",
     "output_type": "stream",
     "text": [
      "9\n"
     ]
    }
   ],
   "source": [
    "print(4+5)"
   ]
  },
  {
   "cell_type": "code",
   "execution_count": 1,
   "metadata": {},
   "outputs": [
    {
     "name": "stdout",
     "output_type": "stream",
     "text": [
      "testing github clonning and bla.. bla..\n"
     ]
    }
   ],
   "source": [
    "print('testing github clonning and bla.. bla..')"
   ]
  },
  {
   "cell_type": "code",
   "execution_count": null,
   "metadata": {},
   "outputs": [],
   "source": []
  }
 ],
 "metadata": {
  "kernelspec": {
   "display_name": "Python 3",
   "language": "python",
   "name": "python3"
  },
  "language_info": {
   "codemirror_mode": {
    "name": "ipython",
    "version": 3
   },
   "file_extension": ".py",
   "mimetype": "text/x-python",
   "name": "python",
   "nbconvert_exporter": "python",
   "pygments_lexer": "ipython3",
   "version": "3.7.3"
  }
 },
 "nbformat": 4,
 "nbformat_minor": 2
}

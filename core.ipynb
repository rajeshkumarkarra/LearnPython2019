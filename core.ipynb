{
 "cells": [
  {
   "cell_type": "markdown",
   "metadata": {},
   "source": [
    "#                                     PYTHON3"
   ]
  },
  {
   "cell_type": "raw",
   "metadata": {},
   "source": [
    "In other programming languages like C, C++ and Java, you will need to declare the type of variables but in Python you don’t need to do that. Just type in the variable and when values will be given to it, then it will automatically know whether the value given would be a int, float or char or even a String."
   ]
  },
  {
   "cell_type": "code",
   "execution_count": 11,
   "metadata": {},
   "outputs": [
    {
     "name": "stdout",
     "output_type": "stream",
     "text": [
      "3\n",
      "4.5\n",
      "helloworld\n"
     ]
    }
   ],
   "source": [
    "# Python program to declare variables \n",
    "myNumber = 3\n",
    "print(myNumber) \n",
    "\n",
    "myNumber2 = 4.5\n",
    "print(myNumber2) \n",
    "\n",
    "myNumber =\"helloworld\"\n",
    "print(myNumber) \n"
   ]
  },
  {
   "cell_type": "markdown",
   "metadata": {},
   "source": [
    "### LIST"
   ]
  },
  {
   "cell_type": "raw",
   "metadata": {},
   "source": [
    "List is the most basic Data Structure in python. List is mutable data structure i.e items can be added to list later after the list creation. Its like you are going to shop at local market and made a list of some items and later on you can add more and more items to the list.\n",
    "append() function is used to add data to the list."
   ]
  },
  {
   "cell_type": "code",
   "execution_count": 14,
   "metadata": {},
   "outputs": [
    {
     "name": "stdout",
     "output_type": "stream",
     "text": [
      "[21, 40.5, 'String']\n",
      "[40.5, 'String', 'rajesh']\n"
     ]
    }
   ],
   "source": [
    "# Python program to illustrate list \n",
    "\n",
    "# creates a empty list \n",
    "nums = [] \n",
    "\n",
    "# appending data in list \n",
    "nums.append(21) \n",
    "nums.append(40.5) \n",
    "nums.append(\"String\") \n",
    "\n",
    "print(nums) \n",
    "nums.remove(21)\n",
    "nums.append('rajesh')\n",
    "print(nums)"
   ]
  },
  {
   "cell_type": "markdown",
   "metadata": {},
   "source": [
    "### Input and Output"
   ]
  },
  {
   "cell_type": "code",
   "execution_count": 9,
   "metadata": {},
   "outputs": [
    {
     "name": "stdin",
     "output_type": "stream",
     "text": [
      "Enter your name:  raj\n",
      "Enter your mobile number 123456\n"
     ]
    },
    {
     "name": "stdout",
     "output_type": "stream",
     "text": [
      "name:  raj mobile:  123456\n"
     ]
    }
   ],
   "source": [
    "# Python program to illustrate \n",
    "# getting input from user \n",
    "name = input(\"Enter your name: \") \n",
    "mobile = input(\"Enter your mobile number\")\n",
    "\n",
    "# user entered the name 'harssh' \n",
    "print(\"name: \",name,\"mobile: \",mobile) \n",
    "\n",
    "\n"
   ]
  },
  {
   "cell_type": "markdown",
   "metadata": {},
   "source": [
    "### Functions"
   ]
  },
  {
   "cell_type": "code",
   "execution_count": 2,
   "metadata": {},
   "outputs": [
    {
     "name": "stdout",
     "output_type": "stream",
     "text": [
      "hello\n",
      "hello again\n",
      "hello rajesh\n"
     ]
    }
   ],
   "source": [
    "def hello():\n",
    "    print('hello')\n",
    "    print('hello again')\n",
    "    print('hello rajesh')\n",
    "    \n",
    "hello()\n"
   ]
  },
  {
   "cell_type": "code",
   "execution_count": 6,
   "metadata": {},
   "outputs": [
    {
     "name": "stdout",
     "output_type": "stream",
     "text": [
      "started\n"
     ]
    },
    {
     "name": "stdin",
     "output_type": "stream",
     "text": [
      "Enter your value 10\n"
     ]
    },
    {
     "name": "stdout",
     "output_type": "stream",
     "text": [
      "10\n"
     ]
    }
   ],
   "source": [
    "def getInteger():\n",
    "    result = int(input(\"Enter your value\"))\n",
    "    return result\n",
    "def main():\n",
    "    print('started')\n",
    "    output = getInteger()\n",
    "    print(output)\n",
    "    \n",
    "if __name__==\"__main__\":\n",
    "    main()"
   ]
  },
  {
   "cell_type": "code",
   "execution_count": null,
   "metadata": {},
   "outputs": [],
   "source": []
  },
  {
   "cell_type": "code",
   "execution_count": null,
   "metadata": {},
   "outputs": [],
   "source": []
  },
  {
   "cell_type": "code",
   "execution_count": null,
   "metadata": {},
   "outputs": [],
   "source": []
  },
  {
   "cell_type": "code",
   "execution_count": null,
   "metadata": {},
   "outputs": [],
   "source": []
  },
  {
   "cell_type": "code",
   "execution_count": null,
   "metadata": {},
   "outputs": [],
   "source": []
  },
  {
   "cell_type": "code",
   "execution_count": 10,
   "metadata": {},
   "outputs": [
    {
     "name": "stdin",
     "output_type": "stream",
     "text": [
      "what's your name?  rajesh\n"
     ]
    },
    {
     "name": "stdout",
     "output_type": "stream",
     "text": [
      "Hi rajesh\n"
     ]
    }
   ],
   "source": [
    "name = input(\"what's your name? \")\n",
    "print('Hi '  + name)"
   ]
  },
  {
   "cell_type": "code",
   "execution_count": 4,
   "metadata": {},
   "outputs": [
    {
     "name": "stdin",
     "output_type": "stream",
     "text": [
      "what's your name?  rajesh\n",
      "what's your favouate color?  blue\n"
     ]
    },
    {
     "name": "stdout",
     "output_type": "stream",
     "text": [
      "rajesh likes blue\n"
     ]
    }
   ],
   "source": [
    "name = input(\"what's your name? \")\n",
    "color = input(\"what's your favouate color? \")\n",
    "print(name + \" likes \" + color)"
   ]
  },
  {
   "cell_type": "markdown",
   "metadata": {},
   "source": [
    "# TYPE CONVERSION"
   ]
  },
  {
   "cell_type": "code",
   "execution_count": 9,
   "metadata": {},
   "outputs": [
    {
     "name": "stdin",
     "output_type": "stream",
     "text": [
      "Enter your year of birth:  1987\n"
     ]
    },
    {
     "name": "stdout",
     "output_type": "stream",
     "text": [
      "<class 'str'>\n",
      "32\n"
     ]
    }
   ],
   "source": [
    "birth_year = input(\"Enter your year of birth: \")\n",
    "age = 2019-int(birth_year)\n",
    "print(type(birth_year))\n",
    "print(age)"
   ]
  },
  {
   "cell_type": "code",
   "execution_count": 15,
   "metadata": {},
   "outputs": [
    {
     "name": "stdin",
     "output_type": "stream",
     "text": [
      "weight (lbs):  100\n"
     ]
    },
    {
     "name": "stdout",
     "output_type": "stream",
     "text": [
      "45.0\n"
     ]
    }
   ],
   "source": [
    "# pounds to kg's: 100 pounds=50% of the total weight in pounds= 50 than 1/10 of the 50=5\n",
    "# so, 100 pounds = 45 kgs\n",
    "weight_lbs = input(\"weight (lbs): \")\n",
    "lbs_to_kgs = int(weight_lbs) * 0.45\n",
    "print(lbs_to_kgs)"
   ]
  },
  {
   "cell_type": "markdown",
   "metadata": {},
   "source": [
    "# STRINGS\n",
    "if we use single quote for particular word then we put complete sentense in a double quotes\n",
    "and if we use double quotes for a particular word then we put complete sentense in a single quote's\n",
    "for multiple lines we use ''' '''(triple quots)"
   ]
  },
  {
   "cell_type": "code",
   "execution_count": 17,
   "metadata": {},
   "outputs": [
    {
     "name": "stdout",
     "output_type": "stream",
     "text": [
      "hello 'rajesh' welcome to the tech world\n",
      "hello \"rajesh\" welcome to the tech world\n",
      "\n",
      "hello 'rajesh'\n",
      "\"welcome to the techworld\"\n",
      "\n",
      "\n",
      "\n"
     ]
    }
   ],
   "source": [
    "print(\"hello 'rajesh' welcome to the tech world\")\n",
    "print('hello \"rajesh\" welcome to the tech world')\n",
    "print('''\n",
    "hello 'rajesh'\n",
    "\"welcome to the techworld\"\n",
    "\n",
    "\n",
    "''')"
   ]
  },
  {
   "cell_type": "markdown",
   "metadata": {},
   "source": [
    "STRING INDEXING"
   ]
  },
  {
   "cell_type": "code",
   "execution_count": 22,
   "metadata": {},
   "outputs": [
    {
     "name": "stdout",
     "output_type": "stream",
     "text": [
      "y\n",
      "python for beginners\n",
      "python for beginner\n",
      "ython for beginne\n",
      "python for beginne\n"
     ]
    }
   ],
   "source": [
    "course = 'python for beginners'\n",
    "print(course[1]) # using indexing 1 means 2nd letter from the sentense\n",
    "print(course[:]) # : means starting from first letter to end letter\n",
    "print(course[:-1]) # :-1 means ending to starting except last letter\n",
    "print(course[1:-2]) # starting 2 letter to till end except ending 2 letters\n",
    "print(course[:-2]) # from starting to ending except 2 letters"
   ]
  },
  {
   "cell_type": "markdown",
   "metadata": {},
   "source": [
    "# FORMATED STRING"
   ]
  },
  {
   "cell_type": "code",
   "execution_count": 29,
   "metadata": {},
   "outputs": [
    {
     "name": "stdout",
     "output_type": "stream",
     "text": [
      "john [smith] is a coder\n",
      "john [smith] is a coder\n"
     ]
    }
   ],
   "source": [
    "first = 'john'\n",
    "last = 'smith'\n",
    "message = first + ' [' + last +'] is a coder'\n",
    "# using formated string\n",
    "msg = f'{first} [{last}] is a coder'\n",
    "\n",
    "print(message)\n",
    "print(msg)"
   ]
  },
  {
   "cell_type": "markdown",
   "metadata": {},
   "source": [
    "# STRING METHODS"
   ]
  },
  {
   "cell_type": "code",
   "execution_count": 1,
   "metadata": {},
   "outputs": [
    {
     "name": "stdout",
     "output_type": "stream",
     "text": [
      "20\n"
     ]
    }
   ],
   "source": [
    "course = 'python for begineers'\n",
    "# len is a function which is used for general purpose\n",
    "print(len(course))"
   ]
  },
  {
   "cell_type": "code",
   "execution_count": 14,
   "metadata": {},
   "outputs": [
    {
     "name": "stdout",
     "output_type": "stream",
     "text": [
      "PYTHON FOR BEGINNERS\n",
      "python for beginners\n",
      "0\n",
      "11\n",
      "python for absolute beginners\n",
      "Python For Beginners\n"
     ]
    }
   ],
   "source": [
    "course = 'python for beginners'\n",
    "print(course.upper())\n",
    "print(course.lower())\n",
    "print(course.find('p'))\n",
    "print(course.find('beginners')) # index characters/sequnce of a character\n",
    "print(course.replace('beginners', 'absolute beginners')) # replace method is case sensitive\n",
    "print(course.title())\n"
   ]
  },
  {
   "cell_type": "markdown",
   "metadata": {},
   "source": [
    "EXISTENSE OF SEQUNCE OF A CHARACTER"
   ]
  },
  {
   "cell_type": "code",
   "execution_count": 13,
   "metadata": {},
   "outputs": [
    {
     "name": "stdout",
     "output_type": "stream",
     "text": [
      "True\n",
      "False\n"
     ]
    }
   ],
   "source": [
    "# existense or sequense of a charcter\n",
    "# in function\n",
    "course = 'python for beginners'\n",
    "print('python' in course) # in function is a case sensitive and it shows boolean values\n",
    "print('Python' in course)"
   ]
  },
  {
   "cell_type": "code",
   "execution_count": 18,
   "metadata": {},
   "outputs": [],
   "source": [
    "\n",
    "# REVIEW:\n",
    "# course = 'python for beginners'\n",
    "# len()\n",
    "# course.upper()\n",
    "# course.lower()\n",
    "# course.title()\n",
    "# course.find()\n",
    "# course.replace()\n",
    "# '....' in course()\n"
   ]
  },
  {
   "cell_type": "markdown",
   "metadata": {},
   "source": [
    "# ARITHMETIC OPERATIONS"
   ]
  },
  {
   "cell_type": "code",
   "execution_count": 2,
   "metadata": {},
   "outputs": [
    {
     "name": "stdout",
     "output_type": "stream",
     "text": [
      "3.3333333333333335\n",
      "3\n",
      "30\n",
      "13\n",
      "10\n"
     ]
    }
   ],
   "source": [
    "print(10/3)\n",
    "print(10//3)\n",
    "print(10*3)\n",
    "x=10\n",
    "x+=3\n",
    "print(x)\n",
    "x-=3\n",
    "print(x)\n"
   ]
  },
  {
   "cell_type": "markdown",
   "metadata": {},
   "source": [
    "# OPERATOR PRECEDENCE"
   ]
  },
  {
   "cell_type": "code",
   "execution_count": 6,
   "metadata": {},
   "outputs": [
    {
     "name": "stdout",
     "output_type": "stream",
     "text": [
      "22\n"
     ]
    }
   ],
   "source": [
    "x = 10+3*2**2\n",
    "print(x)"
   ]
  },
  {
   "cell_type": "markdown",
   "metadata": {},
   "source": [
    "# MATH FUNCTIONS"
   ]
  },
  {
   "cell_type": "code",
   "execution_count": 9,
   "metadata": {},
   "outputs": [
    {
     "name": "stdout",
     "output_type": "stream",
     "text": [
      "3\n",
      "2.9\n",
      "3\n",
      "2\n"
     ]
    }
   ],
   "source": [
    "import math\n",
    "x = 2.9\n",
    "print(round(x)) # for rounding off\n",
    "print(abs(-2.9)) # for absolute value\n",
    "print(math.ceil(2.9))\n",
    "print(math.floor(2.9))"
   ]
  },
  {
   "cell_type": "markdown",
   "metadata": {},
   "source": [
    "# IF STATEMENTS\n"
   ]
  },
  {
   "cell_type": "code",
   "execution_count": null,
   "metadata": {},
   "outputs": [],
   "source": []
  }
 ],
 "metadata": {
  "kernelspec": {
   "display_name": "env",
   "language": "python",
   "name": "env"
  },
  "language_info": {
   "codemirror_mode": {
    "name": "ipython",
    "version": 3
   },
   "file_extension": ".py",
   "mimetype": "text/x-python",
   "name": "python",
   "nbconvert_exporter": "python",
   "pygments_lexer": "ipython3",
   "version": "3.7.1"
  }
 },
 "nbformat": 4,
 "nbformat_minor": 2
}

{
 "cells": [
  {
   "cell_type": "code",
   "execution_count": 1,
   "metadata": {},
   "outputs": [
    {
     "name": "stdin",
     "output_type": "stream",
     "text": [
      "what's your name?  rajesh\n"
     ]
    },
    {
     "name": "stdout",
     "output_type": "stream",
     "text": [
      "Hi rajesh\n"
     ]
    }
   ],
   "source": [
    "name = input(\"what's your name? \")\n",
    "print('Hi '  + name)"
   ]
  },
  {
   "cell_type": "code",
   "execution_count": 4,
   "metadata": {},
   "outputs": [
    {
     "name": "stdin",
     "output_type": "stream",
     "text": [
      "what's your name?  rajesh\n",
      "what's your favouate color?  blue\n"
     ]
    },
    {
     "name": "stdout",
     "output_type": "stream",
     "text": [
      "rajesh likes blue\n"
     ]
    }
   ],
   "source": [
    "name = input(\"what's your name? \")\n",
    "color = input(\"what's your favouate color? \")\n",
    "print(name + \" likes \" + color)"
   ]
  },
  {
   "cell_type": "markdown",
   "metadata": {},
   "source": [
    "# TYPE CONVERSION"
   ]
  },
  {
   "cell_type": "code",
   "execution_count": 9,
   "metadata": {},
   "outputs": [
    {
     "name": "stdin",
     "output_type": "stream",
     "text": [
      "Enter your year of birth:  1987\n"
     ]
    },
    {
     "name": "stdout",
     "output_type": "stream",
     "text": [
      "<class 'str'>\n",
      "32\n"
     ]
    }
   ],
   "source": [
    "birth_year = input(\"Enter your year of birth: \")\n",
    "age = 2019-int(birth_year)\n",
    "print(type(birth_year))\n",
    "print(age)"
   ]
  },
  {
   "cell_type": "code",
   "execution_count": 15,
   "metadata": {},
   "outputs": [
    {
     "name": "stdin",
     "output_type": "stream",
     "text": [
      "weight (lbs):  100\n"
     ]
    },
    {
     "name": "stdout",
     "output_type": "stream",
     "text": [
      "45.0\n"
     ]
    }
   ],
   "source": [
    "# pounds to kg's: 100 pounds=50% of the total weight in pounds= 50 than 1/10 of the 50=5\n",
    "# so, 100 pounds = 45 kgs\n",
    "weight_lbs = input(\"weight (lbs): \")\n",
    "lbs_to_kgs = int(weight_lbs) * 0.45\n",
    "print(lbs_to_kgs)"
   ]
  },
  {
   "cell_type": "markdown",
   "metadata": {},
   "source": [
    "# STRINGS\n",
    "if we use single quote for particular word then we put complete sentense in a double quotes\n",
    "and if we use double quotes for a particular word then we put complete sentense in a single quote's\n",
    "for multiple lines we use ''' '''(triple quots)"
   ]
  },
  {
   "cell_type": "code",
   "execution_count": 17,
   "metadata": {},
   "outputs": [
    {
     "name": "stdout",
     "output_type": "stream",
     "text": [
      "hello 'rajesh' welcome to the tech world\n",
      "hello \"rajesh\" welcome to the tech world\n",
      "\n",
      "hello 'rajesh'\n",
      "\"welcome to the techworld\"\n",
      "\n",
      "\n",
      "\n"
     ]
    }
   ],
   "source": [
    "print(\"hello 'rajesh' welcome to the tech world\")\n",
    "print('hello \"rajesh\" welcome to the tech world')\n",
    "print('''\n",
    "hello 'rajesh'\n",
    "\"welcome to the techworld\"\n",
    "\n",
    "\n",
    "''')"
   ]
  },
  {
   "cell_type": "markdown",
   "metadata": {},
   "source": [
    "STRING INDEXING"
   ]
  },
  {
   "cell_type": "code",
   "execution_count": 22,
   "metadata": {},
   "outputs": [
    {
     "name": "stdout",
     "output_type": "stream",
     "text": [
      "y\n",
      "python for beginners\n",
      "python for beginner\n",
      "ython for beginne\n",
      "python for beginne\n"
     ]
    }
   ],
   "source": [
    "course = 'python for beginners'\n",
    "print(course[1]) # using indexing 1 means 2nd letter from the sentense\n",
    "print(course[:]) # : means starting from first letter to end letter\n",
    "print(course[:-1]) # :-1 means ending to starting except last letter\n",
    "print(course[1:-2]) # starting 2 letter to till end except ending 2 letters\n",
    "print(course[:-2]) # from starting to ending except 2 letters"
   ]
  },
  {
   "cell_type": "markdown",
   "metadata": {},
   "source": [
    "# FORMATED STRING"
   ]
  },
  {
   "cell_type": "code",
   "execution_count": 29,
   "metadata": {},
   "outputs": [
    {
     "name": "stdout",
     "output_type": "stream",
     "text": [
      "john [smith] is a coder\n",
      "john [smith] is a coder\n"
     ]
    }
   ],
   "source": [
    "first = 'john'\n",
    "last = 'smith'\n",
    "message = first + ' [' + last +'] is a coder'\n",
    "# using formated string\n",
    "msg = f'{first} [{last}] is a coder'\n",
    "\n",
    "print(message)\n",
    "print(msg)"
   ]
  },
  {
   "cell_type": "markdown",
   "metadata": {},
   "source": [
    "# STRING METHODS"
   ]
  },
  {
   "cell_type": "code",
   "execution_count": 1,
   "metadata": {},
   "outputs": [
    {
     "name": "stdout",
     "output_type": "stream",
     "text": [
      "20\n"
     ]
    }
   ],
   "source": [
    "course = 'python for begineers'\n",
    "# len is a function which is used for general purpose\n",
    "print(len(course))"
   ]
  },
  {
   "cell_type": "code",
   "execution_count": 14,
   "metadata": {},
   "outputs": [
    {
     "name": "stdout",
     "output_type": "stream",
     "text": [
      "PYTHON FOR BEGINNERS\n",
      "python for beginners\n",
      "0\n",
      "11\n",
      "python for absolute beginners\n",
      "Python For Beginners\n"
     ]
    }
   ],
   "source": [
    "course = 'python for beginners'\n",
    "print(course.upper())\n",
    "print(course.lower())\n",
    "print(course.find('p'))\n",
    "print(course.find('beginners')) # index characters/sequnce of a character\n",
    "print(course.replace('beginners', 'absolute beginners')) # replace method is case sensitive\n",
    "print(course.title())\n"
   ]
  },
  {
   "cell_type": "markdown",
   "metadata": {},
   "source": [
    "EXISTENSE OF SEQUNCE OF A CHARACTER"
   ]
  },
  {
   "cell_type": "code",
   "execution_count": 13,
   "metadata": {},
   "outputs": [
    {
     "name": "stdout",
     "output_type": "stream",
     "text": [
      "True\n",
      "False\n"
     ]
    }
   ],
   "source": [
    "# existense or sequense of a charcter\n",
    "# in function\n",
    "course = 'python for beginners'\n",
    "print('python' in course) # in function is a case sensitive and it shows boolean values\n",
    "print('Python' in course)"
   ]
  },
  {
   "cell_type": "code",
   "execution_count": 18,
   "metadata": {},
   "outputs": [],
   "source": [
    "\n",
    "# REVIEW:\n",
    "# course = 'python for beginners'\n",
    "# len()\n",
    "# course.upper()\n",
    "# course.lower()\n",
    "# course.title()\n",
    "# course.find()\n",
    "# course.replace()\n",
    "# '....' in course()\n"
   ]
  },
  {
   "cell_type": "markdown",
   "metadata": {},
   "source": [
    "# ARITHMETIC OPERATIONS"
   ]
  },
  {
   "cell_type": "code",
   "execution_count": null,
   "metadata": {},
   "outputs": [],
   "source": []
  }
 ],
 "metadata": {
  "kernelspec": {
   "display_name": "env",
   "language": "python",
   "name": "env"
  },
  "language_info": {
   "codemirror_mode": {
    "name": "ipython",
    "version": 3
   },
   "file_extension": ".py",
   "mimetype": "text/x-python",
   "name": "python",
   "nbconvert_exporter": "python",
   "pygments_lexer": "ipython3",
   "version": "3.7.1"
  }
 },
 "nbformat": 4,
 "nbformat_minor": 2
}
